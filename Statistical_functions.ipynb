{
  "nbformat": 4,
  "nbformat_minor": 0,
  "metadata": {
    "colab": {
      "name": "Statistical functions.ipynb",
      "provenance": []
    },
    "kernelspec": {
      "name": "python3",
      "display_name": "Python 3"
    },
    "language_info": {
      "name": "python"
    }
  },
  "cells": [
    {
      "cell_type": "markdown",
      "source": [
        "A notebook engulfing the statistical functions and class created by the author for this project"
      ],
      "metadata": {
        "id": "COwWkf0R_T1Q"
      }
    },
    {
      "cell_type": "code",
      "source": [
        "import pandas as pd\n",
        "import numpy as np "
      ],
      "metadata": {
        "id": "4rwurK9v-WS5"
      },
      "execution_count": 4,
      "outputs": []
    },
    {
      "cell_type": "code",
      "execution_count": 1,
      "metadata": {
        "id": "4P3qUZHP8y_C"
      },
      "outputs": [],
      "source": [
        "## A function for Cumulative distribution function\n",
        "## for its application in estimating the relative risk\n",
        "\n",
        "def cdf(sample, value):\n",
        "  count = 0\n",
        "  for i in sample:\n",
        "    if i <= value:\n",
        "      count += 1\n",
        "  return (count * 100) / len(sample)"
      ]
    },
    {
      "cell_type": "code",
      "source": [
        "## Cohen's d - An estimator of effect size\n",
        "\n",
        "def cohen_d(group1, group2):\n",
        "  diff = group1.mean() - group2.mean()\n",
        "  var1 = group1.var()\n",
        "  var2 = group2.var()\n",
        "  n1, n2 = len(group1), len(group2)\n",
        "  pooled_var = (n1 * var1 + n2 * var2) / (n1 + n2)\n",
        "  d = diff / np.sqrt(pooled_var)\n",
        "  return d"
      ],
      "metadata": {
        "id": "5RGHXdC98-Uw"
      },
      "execution_count": 2,
      "outputs": []
    },
    {
      "cell_type": "code",
      "source": [
        "## A class for Hypothesis testing that has a \n",
        "## method for Permutation test\n",
        "\n",
        "class HypothesisTest():\n",
        "\n",
        "  def __init__(self, data):\n",
        "    self.data = data\n",
        "    self.actual = self.PermutationTest(data)\n",
        "\n",
        "  def TestStat(self, data):\n",
        "    data1, data2 = data\n",
        "\n",
        "    n1 = len(data1)\n",
        "    n2 = len(data2)\n",
        "\n",
        "    var1 = data1.var()\n",
        "    var2 = data2.var()\n",
        "\n",
        "    diff = data1.mean() - data2.mean()\n",
        "    pooled_var = (n1 * var1 + n2 * var2) / (n1 + n2)\n",
        "\n",
        "    d = diff / np.sqrt(pooled_var)\n",
        "    return d\n",
        "\n",
        "  def RunModel(self):\n",
        "    data1, data2 = self.data\n",
        "\n",
        "    sample1 = data1.sample(n=7, replace = True)\n",
        "    sample2 = data2.sample(n=7, replace = True)\n",
        "\n",
        "    return (sample1, sample2)\n",
        "\n",
        "  def PermutationTest(self, data):\n",
        "    data1, data2 = data\n",
        "    test_stat = data1.mean() - data2.mean()\n",
        "    return test_stat\n",
        "\n",
        "  def PValue(self, iterations = 3000):\n",
        "    self.test_stats = [self.PermutationTest(self.RunModel())\n",
        "                       for _ in range(iterations)]\n",
        "\n",
        "    count = sum(1 for x in self.test_stats if x <= 0.0)\n",
        "    return count / iterations"
      ],
      "metadata": {
        "id": "N7QjmRk08-W5"
      },
      "execution_count": 3,
      "outputs": []
    },
    {
      "cell_type": "code",
      "source": [
        ""
      ],
      "metadata": {
        "id": "5qTYsPZC8-gi"
      },
      "execution_count": null,
      "outputs": []
    },
    {
      "cell_type": "code",
      "source": [
        ""
      ],
      "metadata": {
        "id": "nhYah3mq8-iw"
      },
      "execution_count": null,
      "outputs": []
    }
  ]
}